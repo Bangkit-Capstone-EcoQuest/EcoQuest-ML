{
 "cells": [
  {
   "cell_type": "markdown",
   "metadata": {},
   "source": [
    "# Scraping Script"
   ]
  },
  {
   "cell_type": "code",
   "execution_count": null,
   "metadata": {},
   "outputs": [],
   "source": [
    "from selenium import webdriver\n",
    "from selenium.webdriver.common.by import By\n",
    "from selenium.webdriver.chrome.service import Service\n",
    "from selenium.webdriver.chrome.options import Options\n",
    "import requests\n",
    "import os\n",
    "import time\n",
    "import random"
   ]
  },
  {
   "cell_type": "code",
   "execution_count": null,
   "metadata": {},
   "outputs": [],
   "source": [
    "USER_AGENTS = [\n",
    "    \"Mozilla/5.0 (Windows NT 10.0; Win64; x64) AppleWebKit/537.36 (KHTML, like Gecko) Chrome/91.0.4472.124 Safari/537.36\",\n",
    "    \"Mozilla/5.0 (Macintosh; Intel Mac OS X 10_15_7) AppleWebKit/537.36 (KHTML, like Gecko) Chrome/91.0.4472.114 Safari/537.36\",\n",
    "    \"Mozilla/5.0 (Windows NT 10.0; Win64; x64) AppleWebKit/537.36 (KHTML, like Gecko) Firefox/89.0\",\n",
    "]"
   ]
  },
  {
   "cell_type": "code",
   "execution_count": null,
   "metadata": {},
   "outputs": [],
   "source": [
    "def scrape(search_query, num_images=100):\n",
    "    chrome_options = Options()\n",
    "    chrome_options.add_argument(\"--headless\")\n",
    "    chrome_options.add_argument(\"--no-sandbox\")\n",
    "    chrome_options.add_argument(\"--disable-dev-shm-usage\")\n",
    "    chrome_options.add_argument(f\"user-agent={random.choice(USER_AGENTS)}\")\n",
    "\n",
    "    service = Service(\"D:\\\\chromedriver.exe\")\n",
    "    driver = webdriver.Chrome(service=service, options=chrome_options)\n",
    "\n",
    "    driver.get(f\"https://www.bing.com/images/search?q={search_query}&FORM=HDRSC2\")\n",
    "    image_selector = \"img.mimg\"\n",
    "\n",
    "    if not os.path.exists(search_query):\n",
    "        os.makedirs(search_query)\n",
    "\n",
    "    images = []\n",
    "    downloaded = 0\n",
    "    last_height = driver.execute_script(\"return document.body.scrollHeight\")\n",
    "\n",
    "    while downloaded < num_images:\n",
    "        new_images = driver.find_elements(By.CSS_SELECTOR, image_selector)\n",
    "        for img in new_images[len(images):]:\n",
    "            img_url = img.get_attribute(\"src\")\n",
    "            if img_url and img_url.startswith(\"http\") and downloaded < num_images:\n",
    "                try:\n",
    "                    img_data = requests.get(img_url, timeout=10).content\n",
    "                    with open(f\"{search_query}/{search_query}_{downloaded + 1}.jpg\", \"wb\") as img_file:\n",
    "                        img_file.write(img_data)\n",
    "                    print(f\"Downloaded: {img_url}\")\n",
    "                    downloaded += 1\n",
    "                except Exception as e:\n",
    "                    print(f\"Failed to download {img_url}: {e}\")\n",
    "\n",
    "        driver.execute_script(\"window.scrollTo(0, document.body.scrollHeight);\")\n",
    "        time.sleep(random.uniform(1, 3))\n",
    "\n",
    "        new_height = driver.execute_script(\"return document.body.scrollHeight\")\n",
    "        if new_height == last_height:\n",
    "            print(\"No more images to load or CAPTCHA detected.\")\n",
    "            break\n",
    "        last_height = new_height\n",
    "\n",
    "        if \"captcha\" in driver.page_source.lower():\n",
    "            print(\"CAPTCHA detected! Pausing to avoid detection.\")\n",
    "            time.sleep(10)\n",
    "            driver.refresh()\n",
    "            time.sleep(10)\n",
    "\n",
    "    driver.quit()\n"
   ]
  },
  {
   "cell_type": "code",
   "execution_count": null,
   "metadata": {},
   "outputs": [],
   "source": [
    "scrape(\"kantong plastik putih\", num_images=200)"
   ]
  }
 ],
 "metadata": {
  "kernelspec": {
   "display_name": "base",
   "language": "python",
   "name": "python3"
  },
  "language_info": {
   "codemirror_mode": {
    "name": "ipython",
    "version": 3
   },
   "file_extension": ".py",
   "mimetype": "text/x-python",
   "name": "python",
   "nbconvert_exporter": "python",
   "pygments_lexer": "ipython3",
   "version": "3.11.5"
  }
 },
 "nbformat": 4,
 "nbformat_minor": 2
}
