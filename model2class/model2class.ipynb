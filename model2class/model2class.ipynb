{
 "cells": [
  {
   "cell_type": "markdown",
   "metadata": {},
   "source": [
    "# Model Using ResNet50"
   ]
  },
  {
   "cell_type": "code",
   "execution_count": null,
   "metadata": {
    "id": "adlE_7B3a0YX"
   },
   "outputs": [],
   "source": [
    "import tensorflow as tf\n",
    "from tensorflow.keras.applications import ResNet50\n",
    "from tensorflow.keras.models import Model\n",
    "from tensorflow.keras.layers import Dense, GlobalAveragePooling2D, Dropout\n",
    "from tensorflow.keras.optimizers import Adam\n",
    "from tensorflow.keras.callbacks import Callback\n",
    "import matplotlib.pyplot as plt\n",
    "import os\n",
    "import logging\n",
    "from sklearn.metrics import confusion_matrix, classification_report\n",
    "import seaborn as sns"
   ]
  },
  {
   "cell_type": "code",
   "execution_count": 3,
   "metadata": {
    "colab": {
     "base_uri": "https://localhost:8080/"
    },
    "id": "tVP_eFH2wBsF",
    "outputId": "6ee698dd-c3a5-4026-b7a7-cb4d1a04ad56"
   },
   "outputs": [
    {
     "name": "stdout",
     "output_type": "stream",
     "text": [
      "TensorFlow version: 2.17.1\n"
     ]
    }
   ],
   "source": [
    "print(\"TensorFlow version:\", tf.__version__)"
   ]
  },
  {
   "cell_type": "markdown",
   "metadata": {},
   "source": [
    "### === Path ==="
   ]
  },
  {
   "cell_type": "code",
   "execution_count": 4,
   "metadata": {
    "id": "D0EEjTgia0YZ"
   },
   "outputs": [],
   "source": [
    "main_dir = r\"/content/drive/MyDrive/CapstoneBangkit/dataset\"\n",
    "train_dir = os.path.join(main_dir, 'train')\n",
    "val_dir = os.path.join(main_dir, 'val')\n",
    "test_dir = os.path.join(main_dir, 'test')"
   ]
  },
  {
   "cell_type": "markdown",
   "metadata": {},
   "source": [
    "### === Preprocessing ==="
   ]
  },
  {
   "cell_type": "code",
   "execution_count": 5,
   "metadata": {
    "id": "E9ZFBL1Qwypg"
   },
   "outputs": [],
   "source": [
    "train_datagen = tf.keras.preprocessing.image.ImageDataGenerator(rescale=1.0/255.0)\n",
    "val_datagen = tf.keras.preprocessing.image.ImageDataGenerator(rescale=1.0/255.0)\n",
    "test_datagen = tf.keras.preprocessing.image.ImageDataGenerator(rescale=1.0/255.0)"
   ]
  },
  {
   "cell_type": "code",
   "execution_count": 6,
   "metadata": {
    "colab": {
     "base_uri": "https://localhost:8080/"
    },
    "id": "bn0Z-iWaa0YZ",
    "outputId": "0dca986e-6717-4b61-c301-e2e8b687f221"
   },
   "outputs": [
    {
     "name": "stdout",
     "output_type": "stream",
     "text": [
      "Found 7176 images belonging to 2 classes.\n",
      "Found 1626 images belonging to 2 classes.\n",
      "Found 173 images belonging to 2 classes.\n"
     ]
    }
   ],
   "source": [
    "train_generator = train_datagen.flow_from_directory(\n",
    "    train_dir,\n",
    "    target_size=(224, 224),\n",
    "    batch_size=32,\n",
    "    class_mode='categorical'\n",
    ")\n",
    "\n",
    "val_generator = val_datagen.flow_from_directory(\n",
    "    val_dir,\n",
    "    target_size=(224, 224),\n",
    "    batch_size=32,\n",
    "    class_mode='categorical'\n",
    ")\n",
    "\n",
    "test_generator = test_datagen.flow_from_directory(\n",
    "    test_dir,\n",
    "    target_size=(224, 224),\n",
    "    batch_size=32,\n",
    "    class_mode='categorical',\n",
    "    shuffle=False\n",
    ")"
   ]
  },
  {
   "cell_type": "markdown",
   "metadata": {},
   "source": [
    "### === Load ResNet50 ==="
   ]
  },
  {
   "cell_type": "code",
   "execution_count": null,
   "metadata": {
    "id": "l31rxixaa0Ya"
   },
   "outputs": [],
   "source": [
    "base_model = ResNet50(weights='imagenet', include_top=False, input_shape=(224, 224, 3))"
   ]
  },
  {
   "cell_type": "markdown",
   "metadata": {},
   "source": [
    " ### === Custom Layers and fine-tuning ==="
   ]
  },
  {
   "cell_type": "code",
   "execution_count": null,
   "metadata": {
    "id": "jv7PbbcSa0Ya"
   },
   "outputs": [],
   "source": [
    "x = base_model.output\n",
    "x = GlobalAveragePooling2D()(x)\n",
    "x = Dropout(0.4)(x)\n",
    "x = Dense(512, activation='relu')(x)\n",
    "x = Dense(256, activation='relu')(x)\n",
    "x = Dense(128, activation='relu')(x)\n",
    "x = Dropout(0.4)(x)\n",
    "predictions = Dense(train_generator.num_classes, activation='softmax')(x)"
   ]
  },
  {
   "cell_type": "markdown",
   "metadata": {},
   "source": [
    "### === Build model ==="
   ]
  },
  {
   "cell_type": "code",
   "execution_count": null,
   "metadata": {
    "id": "3SjUU7lfa0Yb"
   },
   "outputs": [],
   "source": [
    "model = Model(inputs=base_model.input, outputs=predictions)"
   ]
  },
  {
   "cell_type": "markdown",
   "metadata": {},
   "source": [
    "### === Training callback ==="
   ]
  },
  {
   "cell_type": "code",
   "execution_count": null,
   "metadata": {
    "id": "ICDPKkkKwPdG"
   },
   "outputs": [],
   "source": [
    "class MonitorTraining(tf.keras.callbacks.Callback):\n",
    "    def __init__(self, patience=3, overfit_gap=0.2, underfit_threshold=1.0):\n",
    "        super(MonitorTraining, self).__init__()\n",
    "        self.patience = patience\n",
    "        self.overfit_gap = overfit_gap\n",
    "        self.underfit_threshold = underfit_threshold\n",
    "        self.wait = 0\n",
    "        self.best_val_loss = float('inf')\n",
    "        self.reason = None\n",
    "\n",
    "    def on_epoch_end(self, epoch, logs=None):\n",
    "        train_loss = logs.get('loss')\n",
    "        val_loss = logs.get('val_loss')\n",
    "\n",
    "        # underfit\n",
    "        if train_loss > self.underfit_threshold:\n",
    "            self.reason = (\n",
    "                f\"\\nTraining is stopped due to underfit at epoch {epoch}. \\n\"\n",
    "                f\"Train_loss: {train_loss:.4f} > Underfit threshold: {self.underfit_threshold:.4f}\")\n",
    "            print(self.reason)\n",
    "            self.model.stop_training = True\n",
    "            return\n",
    "\n",
    "        # overfit\n",
    "        loss_gap = abs(val_loss - train_loss)\n",
    "        if loss_gap > self.overfit_gap:\n",
    "            self.wait += 1\n",
    "            if self.wait >= self.patience:\n",
    "                self.reason = (\n",
    "                    f\"\\nTraining is stopped due to overfit at epoch {epoch}.\\n\"\n",
    "                    f\"Loss gap: {loss_gap:.4f} > Overfit gap: {self.overfit_gap:.4f}\\n\"\n",
    "                    f\"For {self.patience} consecutive epochs.\"\n",
    "                )\n",
    "                print(self.reason)\n",
    "                self.model.stop_training = True\n",
    "        else:\n",
    "            # Reset counter\n",
    "            self.wait = 0\n",
    "            self.best_val_loss = min(self.best_val_loss, val_loss)\n",
    "\n",
    "    def on_train_end(self, logs=None):\n",
    "        # best fit\n",
    "        if self.reason is None:\n",
    "            print(\"\\nTaining is completed without overfit or underfit detection.\")"
   ]
  },
  {
   "cell_type": "code",
   "execution_count": 11,
   "metadata": {
    "id": "rIvoxjtya0Yb"
   },
   "outputs": [],
   "source": [
    "# Callback MonitorTraining\n",
    "monitor_training = MonitorTraining(\n",
    "    patience=4,\n",
    "    overfit_gap=0.05,\n",
    "    underfit_threshold=1.0\n",
    ")"
   ]
  },
  {
   "cell_type": "markdown",
   "metadata": {},
   "source": [
    "### === Compile model ==="
   ]
  },
  {
   "cell_type": "code",
   "execution_count": 12,
   "metadata": {
    "id": "5nxUWKQWwUhb"
   },
   "outputs": [],
   "source": [
    "# Compile model\n",
    "model.compile(\n",
    "    optimizer=Adam(learning_rate=0.00001),\n",
    "    loss='categorical_crossentropy',\n",
    "    metrics=['accuracy']\n",
    ")"
   ]
  },
  {
   "cell_type": "markdown",
   "metadata": {},
   "source": [
    "### === Logging training info ==="
   ]
  },
  {
   "cell_type": "code",
   "execution_count": 13,
   "metadata": {
    "id": "NaiBNr90wVpF"
   },
   "outputs": [],
   "source": [
    "logging.basicConfig(filename='training_log.txt, level=logging.INFO')"
   ]
  },
  {
   "cell_type": "markdown",
   "metadata": {},
   "source": [
    "### === Training model ==="
   ]
  },
  {
   "cell_type": "code",
   "execution_count": 14,
   "metadata": {
    "colab": {
     "base_uri": "https://localhost:8080/"
    },
    "id": "8m1hdwkywWil",
    "outputId": "9cba625d-ec24-4b10-aeea-a67ba040a067"
   },
   "outputs": [
    {
     "name": "stdout",
     "output_type": "stream",
     "text": [
      "Epoch 1/15\n"
     ]
    },
    {
     "name": "stderr",
     "output_type": "stream",
     "text": [
      "/usr/local/lib/python3.10/dist-packages/keras/src/trainers/data_adapters/py_dataset_adapter.py:122: UserWarning: Your `PyDataset` class should call `super().__init__(**kwargs)` in its constructor. `**kwargs` can include `workers`, `use_multiprocessing`, `max_queue_size`. Do not pass these arguments to `fit()`, as they will be ignored.\n",
      "  self._warn_if_super_not_called()\n"
     ]
    },
    {
     "name": "stdout",
     "output_type": "stream",
     "text": [
      "\u001b[1m225/225\u001b[0m \u001b[32m━━━━━━━━━━━━━━━━━━━━\u001b[0m\u001b[37m\u001b[0m \u001b[1m1652s\u001b[0m 7s/step - accuracy: 0.6536 - loss: 0.6299 - val_accuracy: 0.4803 - val_loss: 0.7915\n",
      "Epoch 2/15\n",
      "\u001b[1m225/225\u001b[0m \u001b[32m━━━━━━━━━━━━━━━━━━━━\u001b[0m\u001b[37m\u001b[0m \u001b[1m100s\u001b[0m 334ms/step - accuracy: 0.9457 - loss: 0.1677 - val_accuracy: 0.5726 - val_loss: 0.8794\n",
      "Epoch 3/15\n",
      "\u001b[1m225/225\u001b[0m \u001b[32m━━━━━━━━━━━━━━━━━━━━\u001b[0m\u001b[37m\u001b[0m \u001b[1m79s\u001b[0m 345ms/step - accuracy: 0.9873 - loss: 0.0471 - val_accuracy: 0.8733 - val_loss: 0.2962\n",
      "Epoch 4/15\n",
      "\u001b[1m225/225\u001b[0m \u001b[32m━━━━━━━━━━━━━━━━━━━━\u001b[0m\u001b[37m\u001b[0m \u001b[1m79s\u001b[0m 345ms/step - accuracy: 0.9928 - loss: 0.0232 - val_accuracy: 0.9791 - val_loss: 0.0682\n",
      "Epoch 5/15\n",
      "\u001b[1m225/225\u001b[0m \u001b[32m━━━━━━━━━━━━━━━━━━━━\u001b[0m\u001b[37m\u001b[0m \u001b[1m79s\u001b[0m 343ms/step - accuracy: 0.9967 - loss: 0.0135 - val_accuracy: 0.9945 - val_loss: 0.0185\n",
      "Epoch 6/15\n",
      "\u001b[1m225/225\u001b[0m \u001b[32m━━━━━━━━━━━━━━━━━━━━\u001b[0m\u001b[37m\u001b[0m \u001b[1m88s\u001b[0m 386ms/step - accuracy: 0.9990 - loss: 0.0072 - val_accuracy: 0.9951 - val_loss: 0.0151\n",
      "Epoch 7/15\n",
      "\u001b[1m225/225\u001b[0m \u001b[32m━━━━━━━━━━━━━━━━━━━━\u001b[0m\u001b[37m\u001b[0m \u001b[1m79s\u001b[0m 342ms/step - accuracy: 0.9986 - loss: 0.0054 - val_accuracy: 0.9957 - val_loss: 0.0181\n",
      "Epoch 8/15\n",
      "\u001b[1m225/225\u001b[0m \u001b[32m━━━━━━━━━━━━━━━━━━━━\u001b[0m\u001b[37m\u001b[0m \u001b[1m82s\u001b[0m 344ms/step - accuracy: 0.9984 - loss: 0.0062 - val_accuracy: 0.9957 - val_loss: 0.0147\n",
      "Epoch 9/15\n",
      "\u001b[1m225/225\u001b[0m \u001b[32m━━━━━━━━━━━━━━━━━━━━\u001b[0m\u001b[37m\u001b[0m \u001b[1m79s\u001b[0m 345ms/step - accuracy: 0.9972 - loss: 0.0070 - val_accuracy: 0.9945 - val_loss: 0.0204\n",
      "Epoch 10/15\n",
      "\u001b[1m225/225\u001b[0m \u001b[32m━━━━━━━━━━━━━━━━━━━━\u001b[0m\u001b[37m\u001b[0m \u001b[1m82s\u001b[0m 344ms/step - accuracy: 0.9995 - loss: 0.0034 - val_accuracy: 0.9963 - val_loss: 0.0193\n",
      "Epoch 11/15\n",
      "\u001b[1m225/225\u001b[0m \u001b[32m━━━━━━━━━━━━━━━━━━━━\u001b[0m\u001b[37m\u001b[0m \u001b[1m78s\u001b[0m 339ms/step - accuracy: 1.0000 - loss: 0.0015 - val_accuracy: 0.9963 - val_loss: 0.0180\n",
      "Epoch 12/15\n",
      "\u001b[1m225/225\u001b[0m \u001b[32m━━━━━━━━━━━━━━━━━━━━\u001b[0m\u001b[37m\u001b[0m \u001b[1m93s\u001b[0m 385ms/step - accuracy: 0.9999 - loss: 0.0012 - val_accuracy: 0.9945 - val_loss: 0.0215\n",
      "Epoch 13/15\n",
      "\u001b[1m225/225\u001b[0m \u001b[32m━━━━━━━━━━━━━━━━━━━━\u001b[0m\u001b[37m\u001b[0m \u001b[1m143s\u001b[0m 391ms/step - accuracy: 1.0000 - loss: 6.3863e-04 - val_accuracy: 0.9951 - val_loss: 0.0205\n",
      "Epoch 14/15\n",
      "\u001b[1m225/225\u001b[0m \u001b[32m━━━━━━━━━━━━━━━━━━━━\u001b[0m\u001b[37m\u001b[0m \u001b[1m133s\u001b[0m 348ms/step - accuracy: 1.0000 - loss: 6.7480e-04 - val_accuracy: 0.9945 - val_loss: 0.0238\n",
      "Epoch 15/15\n",
      "\u001b[1m225/225\u001b[0m \u001b[32m━━━━━━━━━━━━━━━━━━━━\u001b[0m\u001b[37m\u001b[0m \u001b[1m78s\u001b[0m 342ms/step - accuracy: 0.9997 - loss: 0.0014 - val_accuracy: 0.9963 - val_loss: 0.0150\n",
      "\n",
      " Training selesai tanpa deteksi overfit atau underfit.\n"
     ]
    }
   ],
   "source": [
    "history = model.fit(\n",
    "    train_generator,\n",
    "    epochs=15,\n",
    "    validation_data=val_generator,\n",
    "    callbacks=[monitor_training]\n",
    ")"
   ]
  },
  {
   "cell_type": "markdown",
   "metadata": {},
   "source": [
    "### === Plot accuracy ==="
   ]
  },
  {
   "cell_type": "code",
   "execution_count": null,
   "metadata": {
    "colab": {
     "base_uri": "https://localhost:8080/",
     "height": 472
    },
    "id": "ODRaDI5cwYCO",
    "outputId": "9d06cd4a-53ec-4112-f78e-31b664cbf2fc"
   },
   "outputs": [
    {
     "data": {
      "image/png": "[encoded data removed]",
      "text/plain": [
       "<Figure size 640x480 with 1 Axes>"
      ]
     },
     "metadata": {},
     "output_type": "display_data"
    }
   ],
   "source": [
    "plt.plot(history.history['accuracy'], label='Train Accuracy')\n",
    "plt.plot(history.history['val_accuracy'], label='Validation Accuracy')\n",
    "plt.legend()\n",
    "plt.title('Model Accuracy')\n",
    "plt.xlabel('Epoch')\n",
    "plt.ylabel('Accuracy')\n",
    "plt.show()"
   ]
  },
  {
   "cell_type": "markdown",
   "metadata": {},
   "source": [
    "### === Plot loss ==="
   ]
  },
  {
   "cell_type": "code",
   "execution_count": 16,
   "metadata": {
    "colab": {
     "base_uri": "https://localhost:8080/",
     "height": 472
    },
    "id": "-h0Eg2ULwZHj",
    "outputId": "cb5eeb7e-cd81-4666-8288-4ab3b9f486a5"
   },
   "outputs": [
    {
     "data": {
      "image/png": "[encoded data removed]",
      "text/plain": [
       "<Figure size 640x480 with 1 Axes>"
      ]
     },
     "metadata": {},
     "output_type": "display_data"
    }
   ],
   "source": [
    "# Plot loss\n",
    "plt.plot(history.history['loss'], label='Train Loss')\n",
    "plt.plot(history.history['val_loss'], label='Validation Loss')\n",
    "plt.legend()\n",
    "plt.title('Model Loss')\n",
    "plt.xlabel('Epoch')\n",
    "plt.ylabel('Loss')\n",
    "plt.show()"
   ]
  },
  {
   "cell_type": "markdown",
   "metadata": {},
   "source": [
    "### === Save model ==="
   ]
  },
  {
   "cell_type": "code",
   "execution_count": 17,
   "metadata": {
    "colab": {
     "base_uri": "https://localhost:8080/"
    },
    "id": "VsIKco8_wad1",
    "outputId": "a9dc2048-2f95-4e8e-ac03-e6ed5bf45a93"
   },
   "outputs": [
    {
     "name": "stderr",
     "output_type": "stream",
     "text": [
      "WARNING:absl:You are saving your model as an HDF5 file via `model.save()` or `keras.saving.save_model(model)`. This file format is considered legacy. We recommend using instead the native Keras format, e.g. `model.save('my_model.keras')` or `keras.saving.save_model(model, 'my_model.keras')`. \n"
     ]
    },
    {
     "name": "stdout",
     "output_type": "stream",
     "text": [
      "Model saved as model.h5\n"
     ]
    }
   ],
   "source": [
    "model.save('model.h5')\n",
    "print(\"Model saved as model.h5\")"
   ]
  },
  {
   "cell_type": "markdown",
   "metadata": {},
   "source": [
    "### === Evaluate model on test set ==="
   ]
  },
  {
   "cell_type": "code",
   "execution_count": 18,
   "metadata": {
    "colab": {
     "base_uri": "https://localhost:8080/"
    },
    "id": "DtwoBEqNwbYl",
    "outputId": "85512aa9-6cd5-4448-97f0-ab744a9ae426"
   },
   "outputs": [
    {
     "name": "stdout",
     "output_type": "stream",
     "text": [
      "\u001b[1m6/6\u001b[0m \u001b[32m━━━━━━━━━━━━━━━━━━━━\u001b[0m\u001b[37m\u001b[0m \u001b[1m40s\u001b[0m 8s/step - accuracy: 0.9910 - loss: 0.0097\n",
      "Test Loss: 0.0182, Test Accuracy: 0.9827\n"
     ]
    }
   ],
   "source": [
    "test_loss, test_acc = model.evaluate(test_generator)\n",
    "print(f'Test Loss: {test_loss:.4f}, Test Accuracy: {test_acc:.4f}')"
   ]
  },
  {
   "cell_type": "code",
   "execution_count": 19,
   "metadata": {
    "colab": {
     "base_uri": "https://localhost:8080/"
    },
    "id": "WWJitLlcwcXS",
    "outputId": "6b3e10a2-e632-48e0-a77a-a2fc68d9d028"
   },
   "outputs": [
    {
     "name": "stdout",
     "output_type": "stream",
     "text": [
      "\u001b[1m6/6\u001b[0m \u001b[32m━━━━━━━━━━━━━━━━━━━━\u001b[0m\u001b[37m\u001b[0m \u001b[1m7s\u001b[0m 748ms/step\n"
     ]
    }
   ],
   "source": [
    "prediction = model.predict(test_generator)\n",
    "predicted_class_indices = tf.argmax(prediction, axis=1)"
   ]
  },
  {
   "cell_type": "code",
   "execution_count": 20,
   "metadata": {
    "colab": {
     "base_uri": "https://localhost:8080/",
     "height": 718
    },
    "id": "Mi4tzSdlwdUV",
    "outputId": "21f3b6e9-a464-4c57-f7e8-acddc7e9d3db"
   },
   "outputs": [
    {
     "data": {
      "image/png": "[encoded data removed]",
      "text/plain": [
       "<Figure size 1000x800 with 2 Axes>"
      ]
     },
     "metadata": {},
     "output_type": "display_data"
    }
   ],
   "source": [
    "true_classes = test_generator.classes\n",
    "class_labels = list(test_generator.class_indices.keys())\n",
    "\n",
    "cm = confusion_matrix(true_classes, predicted_class_indices)\n",
    "plt.figure(figsize=(10, 8))\n",
    "sns.heatmap(cm, annot=True, fmt='d', cmap='Blues', xticklabels=class_labels, yticklabels=class_labels)\n",
    "plt.xlabel('Predicted')\n",
    "plt.ylabel('Actual')\n",
    "plt.title('Confusion Matrix')\n",
    "plt.show()"
   ]
  },
  {
   "cell_type": "code",
   "execution_count": 21,
   "metadata": {
    "colab": {
     "base_uri": "https://localhost:8080/"
    },
    "id": "litprgpywd5Q",
    "outputId": "e4f4d7ba-31c2-4ddc-feac-6210c4d6962c"
   },
   "outputs": [
    {
     "name": "stdout",
     "output_type": "stream",
     "text": [
      "              precision    recall  f1-score   support\n",
      "\n",
      "        HDPE       0.96      1.00      0.98        75\n",
      "         PET       1.00      0.97      0.98        98\n",
      "\n",
      "    accuracy                           0.98       173\n",
      "   macro avg       0.98      0.98      0.98       173\n",
      "weighted avg       0.98      0.98      0.98       173\n",
      "\n"
     ]
    }
   ],
   "source": [
    "report = classification_report(true_classes, predicted_class_indices, target_names=class_labels)\n",
    "print(report)\n",
    "logging.info(\"Test Loss: %.4f, Test Accuracy: %.4f\".format(test_loss, test_acc))\n",
    "logging.info(\"Classification Report: \\n{}\" + report)"
   ]
  }
 ],
 "metadata": {
  "accelerator": "GPU",
  "colab": {
   "gpuType": "T4",
   "provenance": []
  },
  "kernelspec": {
   "display_name": "Python 3",
   "name": "python3"
  },
  "language_info": {
   "codemirror_mode": {
    "name": "ipython",
    "version": 3
   },
   "file_extension": ".py",
   "mimetype": "text/x-python",
   "name": "python",
   "nbconvert_exporter": "python",
   "pygments_lexer": "ipython3",
   "version": "3.11.5"
  }
 },
 "nbformat": 4,
 "nbformat_minor": 0
}
