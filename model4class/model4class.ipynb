{
 "cells": [
  {
   "cell_type": "code",
   "execution_count": 70,
   "metadata": {
    "id": "adlE_7B3a0YX"
   },
   "outputs": [],
   "source": [
    "import tensorflow as tf\n",
    "from tensorflow.keras.applications import ResNet50\n",
    "from tensorflow.keras.models import Model\n",
    "from tensorflow.keras.layers import Dense, GlobalAveragePooling2D, Dropout\n",
    "from tensorflow.keras.optimizers import Adam\n",
    "from tensorflow.keras.callbacks import EarlyStopping, ModelCheckpoint, Callback\n",
    "import matplotlib.pyplot as plt\n",
    "import os\n",
    "import logging\n",
    "from sklearn.metrics import confusion_matrix, classification_report\n",
    "import seaborn as sns"
   ]
  },
  {
   "cell_type": "code",
   "execution_count": 71,
   "metadata": {
    "colab": {
     "base_uri": "https://localhost:8080/"
    },
    "id": "tVP_eFH2wBsF",
    "outputId": "6ee698dd-c3a5-4026-b7a7-cb4d1a04ad56"
   },
   "outputs": [
    {
     "name": "stdout",
     "output_type": "stream",
     "text": [
      "TensorFlow version: 2.18.0\n"
     ]
    }
   ],
   "source": [
    "print(\"TensorFlow version:\", tf.__version__)"
   ]
  },
  {
   "cell_type": "markdown",
   "metadata": {},
   "source": [
    "### Path"
   ]
  },
  {
   "cell_type": "code",
   "execution_count": 72,
   "metadata": {
    "id": "D0EEjTgia0YZ"
   },
   "outputs": [],
   "source": [
    "main_dir = r\"D:\\1 Main File\\Project File\\Capstone Bangkit\\MakeDataset6\"\n",
    "dataset_dir = os.path.join(main_dir, 'dataset')\n",
    "train_dir = os.path.join(dataset_dir, 'train')\n",
    "val_dir = os.path.join(dataset_dir, 'val')\n",
    "test_dir = os.path.join(dataset_dir, 'test')\n",
    "log_path = os.path.join(main_dir, 'training_log.txt')\n",
    "model_path = os.path.join(main_dir, 'newmodel.h5')\n",
    "os.makedirs(main_dir, exist_ok=True)\n",
    "os.makedirs(main_dir, exist_ok=True)"
   ]
  },
  {
   "cell_type": "markdown",
   "metadata": {},
   "source": [
    "### Preprocessing"
   ]
  },
  {
   "cell_type": "code",
   "execution_count": 73,
   "metadata": {
    "id": "E9ZFBL1Qwypg"
   },
   "outputs": [],
   "source": [
    "train_datagen = tf.keras.preprocessing.image.ImageDataGenerator(rescale=1.0/255.0)\n",
    "val_datagen = tf.keras.preprocessing.image.ImageDataGenerator(rescale=1.0/255.0)\n",
    "test_datagen = tf.keras.preprocessing.image.ImageDataGenerator(rescale=1.0/255.0)"
   ]
  },
  {
   "cell_type": "code",
   "execution_count": 74,
   "metadata": {
    "colab": {
     "base_uri": "https://localhost:8080/"
    },
    "id": "bn0Z-iWaa0YZ",
    "outputId": "0dca986e-6717-4b61-c301-e2e8b687f221"
   },
   "outputs": [
    {
     "name": "stdout",
     "output_type": "stream",
     "text": [
      "Found 14352 images belonging to 4 classes.\n",
      "Found 3144 images belonging to 4 classes.\n",
      "Found 1191 images belonging to 4 classes.\n"
     ]
    }
   ],
   "source": [
    "train_generator = train_datagen.flow_from_directory(\n",
    "    train_dir,\n",
    "    target_size=(224, 224),\n",
    "    batch_size=32,\n",
    "    class_mode='categorical'\n",
    ")\n",
    "\n",
    "val_generator = val_datagen.flow_from_directory(\n",
    "    val_dir,\n",
    "    target_size=(224, 224),\n",
    "    batch_size=32,\n",
    "    class_mode='categorical'\n",
    ")\n",
    "\n",
    "test_generator = test_datagen.flow_from_directory(\n",
    "    test_dir,\n",
    "    target_size=(224, 224),\n",
    "    batch_size=32,\n",
    "    class_mode='categorical',\n",
    "    shuffle=False\n",
    ")"
   ]
  },
  {
   "cell_type": "markdown",
   "metadata": {},
   "source": [
    "### Load ResNet50"
   ]
  },
  {
   "cell_type": "code",
   "execution_count": 75,
   "metadata": {
    "id": "l31rxixaa0Ya"
   },
   "outputs": [],
   "source": [
    "# Load pretrained ResNet50\n",
    "base_model = ResNet50(weights='imagenet', include_top=False, input_shape=(224, 224, 3))"
   ]
  },
  {
   "cell_type": "markdown",
   "metadata": {},
   "source": [
    "### Custom Layers and fine-tuning"
   ]
  },
  {
   "cell_type": "code",
   "execution_count": 76,
   "metadata": {
    "id": "jv7PbbcSa0Ya"
   },
   "outputs": [],
   "source": [
    "x = base_model.output\n",
    "x = GlobalAveragePooling2D()(x)\n",
    "x = Dropout(0.4)(x)\n",
    "x = Dense(512, activation='relu')(x)\n",
    "x = Dense(256, activation='relu')(x)\n",
    "x = Dense(128, activation='relu')(x)\n",
    "x = Dropout(0.4)(x)\n",
    "predictions = Dense(train_generator.num_classes, activation='softmax')(x)"
   ]
  },
  {
   "cell_type": "markdown",
   "metadata": {},
   "source": [
    "### Build model"
   ]
  },
  {
   "cell_type": "code",
   "execution_count": 77,
   "metadata": {
    "id": "3SjUU7lfa0Yb"
   },
   "outputs": [],
   "source": [
    "model = Model(inputs=base_model.input, outputs=predictions)"
   ]
  },
  {
   "cell_type": "markdown",
   "metadata": {},
   "source": [
    "### Training callback"
   ]
  },
  {
   "cell_type": "code",
   "execution_count": null,
   "metadata": {
    "id": "ICDPKkkKwPdG"
   },
   "outputs": [],
   "source": [
    "import tensorflow as tf\n",
    "\n",
    "class MonitorTraining(tf.keras.callbacks.Callback):\n",
    "    def __init__(self, patience=3, overfit_gap=0.2, underfit_threshold=1.0):\n",
    "        super(MonitorTraining, self).__init__()\n",
    "        self.patience = patience\n",
    "        self.overfit_gap = overfit_gap\n",
    "        self.underfit_threshold = underfit_threshold\n",
    "        self.wait = 0\n",
    "        self.best_val_loss = float('inf')\n",
    "        self.reason = None\n",
    "        self.previous_train_loss = float('inf')  # Menyimpan loss dari epoch sebelumnya\n",
    "\n",
    "    def on_epoch_end(self, epoch, logs=None):\n",
    "        train_loss = logs.get('loss')\n",
    "        val_loss = logs.get('val_loss')\n",
    "\n",
    "        # underfit\n",
    "        if train_loss > self.underfit_threshold:\n",
    "            self.reason = (\n",
    "                f\"\\nTraining is stopped due to underfit at epoch {epoch}. \\n\"\n",
    "                f\"Train_loss: {train_loss:.4f} > Underfit threshold: {self.underfit_threshold:.4f}\")\n",
    "            print(self.reason)\n",
    "            self.model.stop_training = True\n",
    "            return\n",
    "\n",
    "        # overfit\n",
    "        loss_gap = abs(val_loss - train_loss)\n",
    "        if loss_gap > self.overfit_gap:\n",
    "            self.wait += 1\n",
    "            if self.wait >= self.patience:\n",
    "                self.reason = (\n",
    "                    f\"\\nTraining is stopped due to overfit at epoch {epoch}.\\n\"\n",
    "                    f\"Loss gap: {loss_gap:.4f} > Overfit gap: {self.overfit_gap:.4f}\\n\"\n",
    "                    f\"For {self.patience} consecutive epochs.\"\n",
    "                )\n",
    "                print(self.reason)\n",
    "                self.model.stop_training = True\n",
    "        else:\n",
    "            # Reset counter\n",
    "            self.wait = 0\n",
    "            self.best_val_loss = min(self.best_val_loss, val_loss)\n",
    "\n",
    "        # Stop training if current train loss is worse than previous\n",
    "        if train_loss > self.previous_train_loss:\n",
    "            self.reason = (\n",
    "                f\"\\nTraining is stopped because the training loss increased at epoch {epoch}.\\n\"\n",
    "                f\"Current Train Loss: {train_loss:.4f} > Previous Train Loss: {self.previous_train_loss:.4f}\"\n",
    "            )\n",
    "            print(self.reason)\n",
    "            self.model.stop_training = True\n",
    "\n",
    "        # Update previous train loss\n",
    "        self.previous_train_loss = train_loss\n",
    "\n",
    "    def on_train_end(self, logs=None):\n",
    "        # best fit\n",
    "        if self.reason is None:\n",
    "            print(\"\\nTraining is completed without overfit or underfit detection.\")"
   ]
  },
  {
   "cell_type": "code",
   "execution_count": 79,
   "metadata": {
    "id": "rIvoxjtya0Yb"
   },
   "outputs": [],
   "source": [
    "# Callback MonitorTraining\n",
    "monitor_training = MonitorTraining(\n",
    "    patience=5,\n",
    "    overfit_gap=0.3,\n",
    "    underfit_threshold=1.0\n",
    ")"
   ]
  },
  {
   "cell_type": "code",
   "execution_count": 80,
   "metadata": {
    "id": "5nxUWKQWwUhb"
   },
   "outputs": [],
   "source": [
    "# Compile model\n",
    "model.compile(\n",
    "    optimizer=Adam(learning_rate=0.00001),\n",
    "    loss='categorical_crossentropy',\n",
    "    metrics=['accuracy']\n",
    ")"
   ]
  },
  {
   "cell_type": "code",
   "execution_count": 81,
   "metadata": {
    "id": "NaiBNr90wVpF"
   },
   "outputs": [],
   "source": [
    "logging.basicConfig(filename=log_path, level=logging.INFO)"
   ]
  },
  {
   "cell_type": "code",
   "execution_count": 82,
   "metadata": {
    "colab": {
     "base_uri": "https://localhost:8080/"
    },
    "id": "8m1hdwkywWil",
    "outputId": "9cba625d-ec24-4b10-aeea-a67ba040a067"
   },
   "outputs": [
    {
     "name": "stdout",
     "output_type": "stream",
     "text": [
      "Epoch 1/10\n",
      "\u001b[1m449/449\u001b[0m \u001b[32m━━━━━━━━━━━━━━━━━━━━\u001b[0m\u001b[37m\u001b[0m \u001b[1m2565s\u001b[0m 6s/step - accuracy: 0.5007 - loss: 1.1554 - val_accuracy: 0.3232 - val_loss: 1.4059\n",
      "Epoch 2/10\n",
      "\u001b[1m449/449\u001b[0m \u001b[32m━━━━━━━━━━━━━━━━━━━━\u001b[0m\u001b[37m\u001b[0m \u001b[1m2505s\u001b[0m 6s/step - accuracy: 0.9454 - loss: 0.1962 - val_accuracy: 0.9491 - val_loss: 0.1648\n",
      "Epoch 3/10\n",
      "\u001b[1m449/449\u001b[0m \u001b[32m━━━━━━━━━━━━━━━━━━━━\u001b[0m\u001b[37m\u001b[0m \u001b[1m2504s\u001b[0m 6s/step - accuracy: 0.9894 - loss: 0.0509 - val_accuracy: 0.9857 - val_loss: 0.0517\n",
      "Epoch 4/10\n",
      "\u001b[1m449/449\u001b[0m \u001b[32m━━━━━━━━━━━━━━━━━━━━\u001b[0m\u001b[37m\u001b[0m \u001b[1m2504s\u001b[0m 6s/step - accuracy: 0.9933 - loss: 0.0255 - val_accuracy: 0.9863 - val_loss: 0.0510\n",
      "Epoch 5/10\n",
      "\u001b[1m449/449\u001b[0m \u001b[32m━━━━━━━━━━━━━━━━━━━━\u001b[0m\u001b[37m\u001b[0m \u001b[1m2514s\u001b[0m 6s/step - accuracy: 0.9970 - loss: 0.0143 - val_accuracy: 0.9889 - val_loss: 0.0425\n",
      "Epoch 6/10\n",
      "\u001b[1m449/449\u001b[0m \u001b[32m━━━━━━━━━━━━━━━━━━━━\u001b[0m\u001b[37m\u001b[0m \u001b[1m2507s\u001b[0m 6s/step - accuracy: 0.9983 - loss: 0.0093 - val_accuracy: 0.9873 - val_loss: 0.0510\n",
      "Epoch 7/10\n",
      "\u001b[1m449/449\u001b[0m \u001b[32m━━━━━━━━━━━━━━━━━━━━\u001b[0m\u001b[37m\u001b[0m \u001b[1m2508s\u001b[0m 6s/step - accuracy: 0.9982 - loss: 0.0066 - val_accuracy: 0.9911 - val_loss: 0.0380\n",
      "Epoch 8/10\n",
      "\u001b[1m449/449\u001b[0m \u001b[32m━━━━━━━━━━━━━━━━━━━━\u001b[0m\u001b[37m\u001b[0m \u001b[1m2519s\u001b[0m 6s/step - accuracy: 0.9993 - loss: 0.0036 - val_accuracy: 0.9885 - val_loss: 0.0473\n",
      "Epoch 9/10\n",
      "\u001b[1m449/449\u001b[0m \u001b[32m━━━━━━━━━━━━━━━━━━━━\u001b[0m\u001b[37m\u001b[0m \u001b[1m0s\u001b[0m 5s/step - accuracy: 0.9993 - loss: 0.0033\n",
      "Training is stopped because the training loss increased at epoch 8.\n",
      "Current Train Loss: 0.0037 > Previous Train Loss: 0.0035\n",
      "\u001b[1m449/449\u001b[0m \u001b[32m━━━━━━━━━━━━━━━━━━━━\u001b[0m\u001b[37m\u001b[0m \u001b[1m2524s\u001b[0m 6s/step - accuracy: 0.9993 - loss: 0.0033 - val_accuracy: 0.9889 - val_loss: 0.0430\n"
     ]
    }
   ],
   "source": [
    "history = model.fit(\n",
    "    train_generator,\n",
    "    epochs=10,\n",
    "    validation_data=val_generator,\n",
    "    callbacks=[monitor_training]\n",
    ")"
   ]
  },
  {
   "cell_type": "code",
   "execution_count": 83,
   "metadata": {
    "colab": {
     "base_uri": "https://localhost:8080/",
     "height": 472
    },
    "id": "ODRaDI5cwYCO",
    "outputId": "9d06cd4a-53ec-4112-f78e-31b664cbf2fc"
   },
   "outputs": [
    {
     "data": {
      "image/png": "[encoded data removed]",
      "text/plain": [
       "<Figure size 640x480 with 1 Axes>"
      ]
     },
     "metadata": {},
     "output_type": "display_data"
    }
   ],
   "source": [
    "# Plot accuracy\n",
    "plt.plot(history.history['accuracy'], label='Train Accuracy')\n",
    "plt.plot(history.history['val_accuracy'], label='Validation Accuracy')\n",
    "plt.legend()\n",
    "plt.title('Model Accuracy')\n",
    "plt.xlabel('Epoch')\n",
    "plt.ylabel('Accuracy')\n",
    "plt.show()"
   ]
  },
  {
   "cell_type": "code",
   "execution_count": 84,
   "metadata": {
    "colab": {
     "base_uri": "https://localhost:8080/",
     "height": 472
    },
    "id": "-h0Eg2ULwZHj",
    "outputId": "cb5eeb7e-cd81-4666-8288-4ab3b9f486a5"
   },
   "outputs": [
    {
     "data": {
      "image/png": "[encoded data removed]",
      "text/plain": [
       "<Figure size 640x480 with 1 Axes>"
      ]
     },
     "metadata": {},
     "output_type": "display_data"
    }
   ],
   "source": [
    "# Plot loss\n",
    "plt.plot(history.history['loss'], label='Train Loss')\n",
    "plt.plot(history.history['val_loss'], label='Validation Loss')\n",
    "plt.legend()\n",
    "plt.title('Model Loss')\n",
    "plt.xlabel('Epoch')\n",
    "plt.ylabel('Loss')\n",
    "plt.show()"
   ]
  },
  {
   "cell_type": "code",
   "execution_count": 85,
   "metadata": {
    "colab": {
     "base_uri": "https://localhost:8080/"
    },
    "id": "VsIKco8_wad1",
    "outputId": "a9dc2048-2f95-4e8e-ac03-e6ed5bf45a93"
   },
   "outputs": [
    {
     "name": "stdout",
     "output_type": "stream",
     "text": [
      "Model saved as D:\\1 Main File\\Project File\\Capstone Bangkit\\MakeDataset6\\newmodel.h5\n"
     ]
    }
   ],
   "source": [
    "model.save(model_path)\n",
    "print(f\"Model saved as {model_path}\")"
   ]
  },
  {
   "cell_type": "code",
   "execution_count": 86,
   "metadata": {
    "colab": {
     "base_uri": "https://localhost:8080/"
    },
    "id": "DtwoBEqNwbYl",
    "outputId": "85512aa9-6cd5-4448-97f0-ab744a9ae426"
   },
   "outputs": [
    {
     "name": "stdout",
     "output_type": "stream",
     "text": [
      "\u001b[1m38/38\u001b[0m \u001b[32m━━━━━━━━━━━━━━━━━━━━\u001b[0m\u001b[37m\u001b[0m \u001b[1m43s\u001b[0m 1s/step - accuracy: 0.9497 - loss: 0.3320\n",
      "Test Loss: 0.2291, Test Accuracy: 0.9631\n"
     ]
    }
   ],
   "source": [
    "test_loss, test_acc = model.evaluate(test_generator)\n",
    "print(f'Test Loss: {test_loss:.4f}, Test Accuracy: {test_acc:.4f}')"
   ]
  },
  {
   "cell_type": "code",
   "execution_count": 87,
   "metadata": {
    "colab": {
     "base_uri": "https://localhost:8080/"
    },
    "id": "WWJitLlcwcXS",
    "outputId": "6b3e10a2-e632-48e0-a77a-a2fc68d9d028"
   },
   "outputs": [
    {
     "name": "stdout",
     "output_type": "stream",
     "text": [
      "\u001b[1m38/38\u001b[0m \u001b[32m━━━━━━━━━━━━━━━━━━━━\u001b[0m\u001b[37m\u001b[0m \u001b[1m44s\u001b[0m 1s/step\n"
     ]
    }
   ],
   "source": [
    "prediction = model.predict(test_generator)\n",
    "predicted_class_indices = tf.argmax(prediction, axis=1)"
   ]
  },
  {
   "cell_type": "code",
   "execution_count": 88,
   "metadata": {
    "colab": {
     "base_uri": "https://localhost:8080/",
     "height": 718
    },
    "id": "Mi4tzSdlwdUV",
    "outputId": "21f3b6e9-a464-4c57-f7e8-acddc7e9d3db"
   },
   "outputs": [
    {
     "data": {
      "image/png": "[encoded data removed]",
      "text/plain": [
       "<Figure size 1000x800 with 2 Axes>"
      ]
     },
     "metadata": {},
     "output_type": "display_data"
    }
   ],
   "source": [
    "true_classes = test_generator.classes\n",
    "class_labels = list(test_generator.class_indices.keys())\n",
    "\n",
    "cm = confusion_matrix(true_classes, predicted_class_indices)\n",
    "plt.figure(figsize=(10, 8))\n",
    "sns.heatmap(cm, annot=True, fmt='d', cmap='Blues', xticklabels=class_labels, yticklabels=class_labels)\n",
    "plt.xlabel('Predicted')\n",
    "plt.ylabel('Actual')\n",
    "plt.title('Confusion Matrix')\n",
    "plt.show()"
   ]
  },
  {
   "cell_type": "code",
   "execution_count": 89,
   "metadata": {
    "colab": {
     "base_uri": "https://localhost:8080/"
    },
    "id": "litprgpywd5Q",
    "outputId": "e4f4d7ba-31c2-4ddc-feac-6210c4d6962c"
   },
   "outputs": [
    {
     "name": "stdout",
     "output_type": "stream",
     "text": [
      "              precision    recall  f1-score   support\n",
      "\n",
      "        HDPE       0.84      0.99      0.91        75\n",
      "        LDPE       0.61      0.96      0.74        45\n",
      "         PET       0.98      0.98      0.98        98\n",
      "         PVC       1.00      0.96      0.98       973\n",
      "\n",
      "    accuracy                           0.96      1191\n",
      "   macro avg       0.86      0.97      0.90      1191\n",
      "weighted avg       0.97      0.96      0.97      1191\n",
      "\n"
     ]
    }
   ],
   "source": [
    "report = classification_report(true_classes, predicted_class_indices, target_names=class_labels)\n",
    "print(report)\n",
    "logging.info(\"Test Loss: %.4f, Test Accuracy: %.4f\".format(test_loss, test_acc))\n",
    "logging.info(\"Classification Report: \\n{}\" + report)"
   ]
  }
 ],
 "metadata": {
  "accelerator": "GPU",
  "colab": {
   "gpuType": "T4",
   "provenance": []
  },
  "kernelspec": {
   "display_name": "base",
   "language": "python",
   "name": "python3"
  },
  "language_info": {
   "codemirror_mode": {
    "name": "ipython",
    "version": 3
   },
   "file_extension": ".py",
   "mimetype": "text/x-python",
   "name": "python",
   "nbconvert_exporter": "python",
   "pygments_lexer": "ipython3",
   "version": "3.11.5"
  }
 },
 "nbformat": 4,
 "nbformat_minor": 0
}
